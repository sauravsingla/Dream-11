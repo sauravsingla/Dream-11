{
  "nbformat": 4,
  "nbformat_minor": 0,
  "metadata": {
    "kernelspec": {
      "display_name": "Python 3",
      "language": "python",
      "name": "python3"
    },
    "language_info": {
      "codemirror_mode": {
        "name": "ipython",
        "version": 3
      },
      "file_extension": ".py",
      "mimetype": "text/x-python",
      "name": "python",
      "nbconvert_exporter": "python",
      "pygments_lexer": "ipython3",
      "version": "3.7.1"
    },
    "colab": {
      "name": "Dream 11.ipynb",
      "provenance": [],
      "collapsed_sections": [],
      "include_colab_link": true
    }
  },
  "cells": [
    {
      "cell_type": "markdown",
      "metadata": {
        "id": "view-in-github",
        "colab_type": "text"
      },
      "source": [
        "<a href=\"https://colab.research.google.com/github/sauravsingla/Dream-11/blob/main/Dream_11.ipynb\" target=\"_parent\"><img src=\"https://colab.research.google.com/assets/colab-badge.svg\" alt=\"Open In Colab\"/></a>"
      ]
    },
    {
      "cell_type": "markdown",
      "metadata": {
        "id": "f3VJ2VMxlzW6"
      },
      "source": [
        "## Optimising Dream 11 Team Selection ##"
      ]
    },
    {
      "cell_type": "markdown",
      "metadata": {
        "id": "TCvpplaTlzW-"
      },
      "source": [
        "### Section 1.1 Data Preparation :\n",
        "1) Prepare a Score Vector (The mean of a Player's Score across 10 Matches is considered) <br>\n",
        "2) Prepare Standard Deviation Vector( to capture variability or inconsistencies in player's scores). This is to be used in Mean Variance Optimisation"
      ]
    },
    {
      "cell_type": "code",
      "metadata": {
        "id": "uxpeXCfRlzXB",
        "outputId": "ca670031-15f0-4041-95bf-99103cc245e3"
      },
      "source": [
        "import pandas as pd\n",
        "import numpy as np\n",
        "from gurobipy import *\n",
        "\n",
        "cric_df=pd.read_csv('E:\\MSBA\\Players_Score.csv')\n",
        "cric_df.head()"
      ],
      "execution_count": null,
      "outputs": [
        {
          "output_type": "execute_result",
          "data": {
            "text/html": [
              "<div>\n",
              "<style scoped>\n",
              "    .dataframe tbody tr th:only-of-type {\n",
              "        vertical-align: middle;\n",
              "    }\n",
              "\n",
              "    .dataframe tbody tr th {\n",
              "        vertical-align: top;\n",
              "    }\n",
              "\n",
              "    .dataframe thead th {\n",
              "        text-align: right;\n",
              "    }\n",
              "</style>\n",
              "<table border=\"1\" class=\"dataframe\">\n",
              "  <thead>\n",
              "    <tr style=\"text-align: right;\">\n",
              "      <th></th>\n",
              "      <th>Player Name</th>\n",
              "      <th>Player Type</th>\n",
              "      <th>Team</th>\n",
              "      <th>Retrospective Scores_10</th>\n",
              "      <th>Retrospective Scores_1</th>\n",
              "      <th>Retrospective Scores_2</th>\n",
              "      <th>Retrospective Scores_3</th>\n",
              "      <th>Retrospective Scores_4</th>\n",
              "      <th>Retrospective Scores_5</th>\n",
              "      <th>Retrospective Scores_6</th>\n",
              "      <th>Retrospective Scores_7</th>\n",
              "      <th>Retrospective Scores_8</th>\n",
              "      <th>Retrospective Scores_9</th>\n",
              "      <th>Price</th>\n",
              "    </tr>\n",
              "  </thead>\n",
              "  <tbody>\n",
              "    <tr>\n",
              "      <th>0</th>\n",
              "      <td>V Kohli</td>\n",
              "      <td>BAT</td>\n",
              "      <td>INDIA</td>\n",
              "      <td>278</td>\n",
              "      <td>374</td>\n",
              "      <td>387</td>\n",
              "      <td>372</td>\n",
              "      <td>380</td>\n",
              "      <td>477</td>\n",
              "      <td>481</td>\n",
              "      <td>357</td>\n",
              "      <td>474</td>\n",
              "      <td>477</td>\n",
              "      <td>11.5</td>\n",
              "    </tr>\n",
              "    <tr>\n",
              "      <th>1</th>\n",
              "      <td>S Dhawan</td>\n",
              "      <td>BAT</td>\n",
              "      <td>INDIA</td>\n",
              "      <td>299</td>\n",
              "      <td>337</td>\n",
              "      <td>275</td>\n",
              "      <td>147</td>\n",
              "      <td>121</td>\n",
              "      <td>72</td>\n",
              "      <td>226</td>\n",
              "      <td>141</td>\n",
              "      <td>125</td>\n",
              "      <td>547</td>\n",
              "      <td>9.5</td>\n",
              "    </tr>\n",
              "    <tr>\n",
              "      <th>2</th>\n",
              "      <td>J Denly</td>\n",
              "      <td>BAT</td>\n",
              "      <td>ENGLAND</td>\n",
              "      <td>208</td>\n",
              "      <td>222</td>\n",
              "      <td>226</td>\n",
              "      <td>242</td>\n",
              "      <td>263</td>\n",
              "      <td>259</td>\n",
              "      <td>276</td>\n",
              "      <td>258</td>\n",
              "      <td>256</td>\n",
              "      <td>272</td>\n",
              "      <td>9.0</td>\n",
              "    </tr>\n",
              "    <tr>\n",
              "      <th>3</th>\n",
              "      <td>R Sharma</td>\n",
              "      <td>BAT</td>\n",
              "      <td>INDIA</td>\n",
              "      <td>454</td>\n",
              "      <td>251</td>\n",
              "      <td>442</td>\n",
              "      <td>436</td>\n",
              "      <td>133</td>\n",
              "      <td>437</td>\n",
              "      <td>442</td>\n",
              "      <td>250</td>\n",
              "      <td>294</td>\n",
              "      <td>461</td>\n",
              "      <td>11.0</td>\n",
              "    </tr>\n",
              "    <tr>\n",
              "      <th>4</th>\n",
              "      <td>J Root</td>\n",
              "      <td>BAT</td>\n",
              "      <td>ENGLAND</td>\n",
              "      <td>424</td>\n",
              "      <td>228</td>\n",
              "      <td>378</td>\n",
              "      <td>21</td>\n",
              "      <td>417</td>\n",
              "      <td>365</td>\n",
              "      <td>429</td>\n",
              "      <td>425</td>\n",
              "      <td>420</td>\n",
              "      <td>119</td>\n",
              "      <td>9.0</td>\n",
              "    </tr>\n",
              "  </tbody>\n",
              "</table>\n",
              "</div>"
            ],
            "text/plain": [
              "  Player Name Player Type     Team  Retrospective Scores_10  \\\n",
              "0     V Kohli         BAT    INDIA                      278   \n",
              "1    S Dhawan         BAT    INDIA                      299   \n",
              "2     J Denly         BAT  ENGLAND                      208   \n",
              "3    R Sharma         BAT    INDIA                      454   \n",
              "4      J Root         BAT  ENGLAND                      424   \n",
              "\n",
              "   Retrospective Scores_1  Retrospective Scores_2  Retrospective Scores_3  \\\n",
              "0                     374                     387                     372   \n",
              "1                     337                     275                     147   \n",
              "2                     222                     226                     242   \n",
              "3                     251                     442                     436   \n",
              "4                     228                     378                      21   \n",
              "\n",
              "   Retrospective Scores_4  Retrospective Scores_5  Retrospective Scores_6  \\\n",
              "0                     380                     477                     481   \n",
              "1                     121                      72                     226   \n",
              "2                     263                     259                     276   \n",
              "3                     133                     437                     442   \n",
              "4                     417                     365                     429   \n",
              "\n",
              "   Retrospective Scores_7  Retrospective Scores_8  Retrospective Scores_9  \\\n",
              "0                     357                     474                     477   \n",
              "1                     141                     125                     547   \n",
              "2                     258                     256                     272   \n",
              "3                     250                     294                     461   \n",
              "4                     425                     420                     119   \n",
              "\n",
              "   Price  \n",
              "0   11.5  \n",
              "1    9.5  \n",
              "2    9.0  \n",
              "3   11.0  \n",
              "4    9.0  "
            ]
          },
          "metadata": {
            "tags": []
          },
          "execution_count": 1
        }
      ]
    },
    {
      "cell_type": "markdown",
      "metadata": {
        "id": "hZbGOyfBlzXU"
      },
      "source": [
        "#### Find mean and Standard Deviation of the scores of all 30 Players ###"
      ]
    },
    {
      "cell_type": "code",
      "metadata": {
        "id": "mBCesIXklzXW"
      },
      "source": [
        "score_df=cric_df.iloc[0:,3:cric_df.shape[1]-1] # Separate the score data from other details"
      ],
      "execution_count": null,
      "outputs": []
    },
    {
      "cell_type": "code",
      "metadata": {
        "id": "lh-vd5OnlzXk"
      },
      "source": [
        "sd_score=[np.std(score_df.iloc[i,:].values) for i in range(score_df.shape[0])] #Standard Deviation to measure inconsistency\n",
        "scores=[np.mean(score_df.iloc[i,:].values) for i in range(score_df.shape[0])] #Score of each player"
      ],
      "execution_count": null,
      "outputs": []
    },
    {
      "cell_type": "code",
      "metadata": {
        "id": "pfstj2_9lzXv"
      },
      "source": [
        "#########Other Parameters Set-up############\n",
        "\n",
        "# Intialise a Player Type(Batsman,Bowler,Allrounder or Wicket Keeper) Matrix\n",
        "ptype=np.zeros((4,30))\n",
        "\n",
        "# Initialize a Team Matrix (The Dream 11 Team has to be formed from two competing Teams)\n",
        "team=np.zeros((2,30))\n",
        "\n",
        "# Fill in the Player and Team matrices with values from Dataset\n",
        "for i in range(cric_df.shape[0]):\n",
        "    if(cric_df.loc[i,'Player Type']=='BAT'):\n",
        "        ptype[0,i]=1\n",
        "    elif(cric_df.loc[i,'Player Type']=='BOWL'):\n",
        "        ptype[1,i]=1\n",
        "    elif(cric_df.loc[i,'Player Type']=='ALL'):\n",
        "        ptype[2,i]=1\n",
        "    else:\n",
        "        ptype[3,i]=1\n",
        "    if(cric_df.loc[i,'Team']=='INDIA'):\n",
        "        team[0,i]=1\n",
        "    else:\n",
        "        team[1,i]=1\n",
        "\n",
        "# Prepare a Budget Vector\n",
        "price=cric_df['Price'].values\n",
        "\n",
        "# Prepare the lower bound and upper bound for Player Type . This is to be read as :\n",
        "# The no. of batsman can be between 3 and 6 (lb[0] and ub[0] respectively)\n",
        "# Similarly, the no. of bowlers can be between 3 and 6; No. of allrounders can be between 1 and 4; \n",
        "# and No of wicketkeeper can be between 1 and 4\n",
        "lb=[3,3,1,1]\n",
        "ub=[6,6,4,4]\n",
        "\n",
        "# There can only be 1 Captain, 1 Vice Captain and the rest 9 players will be considered as normal players\n",
        "player_role=[9,1,1]\n",
        "\n",
        "\n",
        "N=cric_df.shape[0] # No of Players\n",
        "M=len(player_role) #No of Player Roles\n",
        "K=ptype.shape[0] #No. of Player Types\n",
        "\n",
        "# Risk_aversion captures the risk tolerance of a Dream 11 Player. \n",
        "#From a problem perspective, we aim to punish a player for his inconsistency. Risk_aversion captures the degree of punishment\n",
        "\n",
        "risk_aversion=0"
      ],
      "execution_count": null,
      "outputs": []
    },
    {
      "cell_type": "markdown",
      "metadata": {
        "id": "YX9N1vEplzX3"
      },
      "source": [
        "### Section 1.2 Stating the Objective Function and Constraints. Displaying the Output ###"
      ]
    },
    {
      "cell_type": "code",
      "metadata": {
        "id": "95WlU7xdlzX5"
      },
      "source": [
        "def dream11_optimisation():\n",
        "    cric = Model(\"cricket\")\n",
        "\n",
        "    # Creat variables\n",
        "    x=cric.addVars(M, N, vtype=GRB.BINARY, name = \"x\")\n",
        "\n",
        "\n",
        "    # Set objective : A Vice Captain has his score multiplied by 1.5 and A captain has his score multiplied by 2.\n",
        "    # Additionally, a Player is punished for his inconsistency (A form of Mean Variance Optimisation, \n",
        "    # used mostly in financial portfolio management)\n",
        "    cric.setObjective( quicksum(scores[j]*x[0,j] for j in range(N))\\\n",
        "                  +quicksum(1.5*scores[j]*x[1,j] for j in range(N))\\\n",
        "                  +quicksum(2*scores[j]*x[2,j] for j in range(N))\\\n",
        "                  -risk_aversion*(quicksum(x[i,j]*sd_score[j] for i in range(M) for j in range(N))), GRB.MAXIMIZE)\n",
        "    \n",
        "    # The Player can either not be selected and if selected, can only take in one of the role : Either a Captain, Vice Captain or\n",
        "    # an ordinary player\n",
        "    cric.addConstrs(( quicksum(x[i,j] for i in range(M)) <= 1 for j in range(N) ))\n",
        "    \n",
        "    # The below constraint ensures that there are 9 ordinary players, only 1 Vice Captain and only 1 Captain in the Team\n",
        "    cric.addConstrs(quicksum(x[i,j] for j in range(N)) ==player_role[i] for i in range(M))\n",
        "    \n",
        "    # Only 100 Points are available for Spending\n",
        "    cric.addConstr(quicksum(price[j]*x[i,j] for i in range(M) for j in range(N)) <=100)\n",
        "    \n",
        "    # The no of Batsman,Bowler, Allrounder and WK has to be within the specified ranges\n",
        "    cric.addConstrs(quicksum(x[i,j]*ptype[k,j] for i in range(M) for j in range(N))<=ub[k] for k in range(K))\n",
        "\n",
        "    cric.addConstrs(quicksum(x[i,j]*ptype[k,j] for i in range(M) for j in range(N))>=lb[k] for k in range(K))\n",
        "\n",
        "    # There can be a maximum of 7 players from one team\n",
        "    cric.addConstrs(quicksum(x[i,j]*team[k,j] for i in range(M) for j in range(N))<=7 for k in range(team.shape[0]))\n",
        "\n",
        "    return cric,x"
      ],
      "execution_count": null,
      "outputs": []
    },
    {
      "cell_type": "code",
      "metadata": {
        "id": "qMrPzf1alzYH",
        "outputId": "7e2f55cd-02c7-4c6a-9d16-3606da8e63fa"
      },
      "source": [
        "# risk_aversion can vary between 1 to 10: \n",
        "# A risk_aversion score of 0 means the risk taking apetite is huge. This Dream 11 Player doesn't take inconsistencies in \n",
        "# cricket players performance into account while selecting his Playing 11. \n",
        "# 10 signifies that the risk-taking apetite of the Dream 11 player is almost negligible. He/She would prefer only consistent\n",
        "# players in his/her playing 11\n",
        "while (True):\n",
        "    risk_aversion = int(input(\"Enter your risk tolerance : \"))\n",
        "    if(risk_aversion>10 or risk_aversion < 0 ):\n",
        "        print(\"Invalid Input!!. Please Choose a tolerance limit between 0 and 10\"+\"(both inclusive)\")\n",
        "        continue\n",
        "    else:\n",
        "        print ('Risk Tolerance of the Dream-11 Player is',risk_aversion)\n",
        "        # setup the model again\n",
        "        dr_cric,x = dream11_optimisation()\n",
        "        \n",
        "        #Supressing the optimization output\n",
        "        dr_cric.setParam('OutputFlag', False )\n",
        "        \n",
        "        # Solving the model\n",
        "        dr_cric.optimize()\n",
        "        \n",
        "        # Display the Output\n",
        "        print('The Optimum Team for the upcoming match based on your risk tolerance is shown below:- \\n')\n",
        "        for v in dr_cric.getVars():\n",
        "            if(int(v.VarName[2])==2 and v.x > 0):\n",
        "                index=int(v.VarName[v.VarName.index(',')+1:v.VarName.index(']')])\n",
        "                print('The Captain of the Team is',cric_df.loc[index,'Player Name'] + \\\n",
        "                  '('+ cric_df.loc[index,'Player Type'] +')'+ ' from '+ cric_df.loc[index,'Team'])\n",
        "        for v in dr_cric.getVars():\n",
        "            if(int(v.VarName[2])==1 and v.x > 0):\n",
        "                index=int(v.VarName[v.VarName.index(',')+1:v.VarName.index(']')])\n",
        "                print('The Vice Captain of the Team is',cric_df.loc[index,'Player Name'] + \\\n",
        "                      '('+ cric_df.loc[index,'Player Type'] +')'+ ' from '+ cric_df.loc[index,'Team']+'\\n')\n",
        "        print('Other Players:- \\n')\n",
        "        for v in dr_cric.getVars():\n",
        "            if(int(v.VarName[2])==0 and v.x > 0):\n",
        "                index=int(v.VarName[v.VarName.index(',')+1:v.VarName.index(']')])\n",
        "                print(cric_df.loc[index,'Player Name'] +'('+ cric_df.loc[index,'Player Type'] +')'+ \\\n",
        "                      ' from '+ cric_df.loc[index,'Team'])\n",
        "        print('The expected score of the match is ',dr_cric.objVal)\n",
        "        # Ask from User if he want's to select a team on other risk tolerance levels, apart from the one entered earlier\n",
        "        choice = input(\"Enter (Y/N) if you wan't to see team combination for other risk_tolerance levels : \\n\")\n",
        "        if(choice.upper()=='Y' ):\n",
        "            continue\n",
        "        else:\n",
        "            print('No more Team Selections')\n",
        "            break"
      ],
      "execution_count": null,
      "outputs": [
        {
          "output_type": "stream",
          "text": [
            "Enter your risk tolerance : 2\n",
            "Risk Tolerance of the Dream-11 Player is 2\n",
            "The Optimum Team for the upcoming match based on your risk tolerance is shown below:- \n",
            "\n",
            "The Captain of the Team is V Kohli(BAT) from INDIA\n",
            "The Vice Captain of the Team is KL Rahul(BAT) from INDIA\n",
            "\n",
            "Other Players:- \n",
            "\n",
            "J Denly(BAT) from ENGLAND\n",
            "J Roy(BAT) from ENGLAND\n",
            "M Ali(ALL) from ENGLAND\n",
            "J Bumrah(BOWL) from INDIA\n",
            "B Kumar(BOWL) from INDIA\n",
            "C Woakes(BOWL) from ENGLAND\n",
            "J Archer(BOWL) from ENGLAND\n",
            "U Yadav(BOWL) from INDIA\n",
            "J Buttler(WK) from ENGLAND\n",
            "The expected score of the match is  3175.1654335748462\n",
            "Enter (Y/N) if you wan't to see team combination for other risk_tolerance levels : \n",
            "N\n",
            "No more Team Selections\n"
          ],
          "name": "stdout"
        }
      ]
    },
    {
      "cell_type": "markdown",
      "metadata": {
        "id": "TlWa5CqklzYP"
      },
      "source": [
        "## Section 2: Sensitivity Analysis ##"
      ]
    },
    {
      "cell_type": "markdown",
      "metadata": {
        "id": "400oOcJRlzYQ"
      },
      "source": [
        "#### Sometimes, the pitch on which the match will be played on, can be curated to become more batsman friendly. The team management would like to include more batsman in the team.In such cases, the lower bound for the number of batsman, can be increased. ###"
      ]
    },
    {
      "cell_type": "code",
      "metadata": {
        "id": "8JyFXsgFlzYR",
        "outputId": "e91c102a-a571-4522-a511-38121eaf337e"
      },
      "source": [
        "# Change Parameters\n",
        "lb[0]=6 #Change the minimum no of batsman to be included in the team to 6\n",
        "ub[3]=1 #A Wicket-Keeper is also a batsman, So we need to constraint the no.of Wicket-Keeper to 1, if we are selecting \n",
        "# 6 specialist batsmen.\n",
        "\n",
        "risk_aversion=0 # Reset Risk_aversion =0\n",
        "\n",
        "# setup the model again\n",
        "dr_cric,x = dream11_optimisation()\n",
        "\n",
        "# Solving the model\n",
        "dr_cric.optimize()"
      ],
      "execution_count": null,
      "outputs": [
        {
          "output_type": "stream",
          "text": [
            "Optimize a model with 44 rows, 90 columns and 540 nonzeros\n",
            "Variable types: 0 continuous, 90 integer (90 binary)\n",
            "Coefficient statistics:\n",
            "  Matrix range     [1e+00, 1e+01]\n",
            "  Objective range  [1e+02, 8e+02]\n",
            "  Bounds range     [1e+00, 1e+00]\n",
            "  RHS range        [1e+00, 1e+02]\n",
            "Presolve removed 6 rows and 3 columns\n",
            "Presolve time: 0.00s\n",
            "Presolved: 38 rows, 87 columns, 456 nonzeros\n",
            "Variable types: 0 continuous, 87 integer (87 binary)\n",
            "Found heuristic solution: objective 4082.0500000\n",
            "\n",
            "Root relaxation: objective 4.125675e+03, 44 iterations, 0.00 seconds\n",
            "\n",
            "    Nodes    |    Current Node    |     Objective Bounds      |     Work\n",
            " Expl Unexpl |  Obj  Depth IntInf | Incumbent    BestBd   Gap | It/Node Time\n",
            "\n",
            "     0     0 4125.67500    0    2 4082.05000 4125.67500  1.07%     -    0s\n",
            "H    0     0                    4120.9500000 4125.67500  0.11%     -    0s\n",
            "     0     0 infeasible    0      4120.95000 4120.95000  0.00%     -    0s\n",
            "\n",
            "Explored 1 nodes (44 simplex iterations) in 0.15 seconds\n",
            "Thread count was 4 (of 4 available processors)\n",
            "\n",
            "Solution count 2: 4120.95 4082.05 \n",
            "\n",
            "Optimal solution found (tolerance 1.00e-04)\n",
            "Best objective 4.120950000000e+03, best bound 4.120950000000e+03, gap 0.0000%\n"
          ],
          "name": "stdout"
        }
      ]
    },
    {
      "cell_type": "code",
      "metadata": {
        "id": "qyzdV2TmlzYX",
        "outputId": "92838ee9-a6d7-431c-e550-3d4b222041eb"
      },
      "source": [
        "print('The Optimum Team for the upcoming match is shown below:- \\n')\n",
        "for v in dr_cric.getVars():\n",
        "    if(int(v.VarName[2])==2 and v.x > 0):\n",
        "        index=int(v.VarName[v.VarName.index(',')+1:v.VarName.index(']')])\n",
        "        print('The Captain of the Team is',cric_df.loc[index,'Player Name'] +'('+ cric_df.loc[index,'Player Type'] +')'+ ' from '+ cric_df.loc[index,'Team'])\n",
        "for v in dr_cric.getVars():\n",
        "    if(int(v.VarName[2])==1 and v.x > 0):\n",
        "        index=int(v.VarName[v.VarName.index(',')+1:v.VarName.index(']')])\n",
        "        print('The Vice Captain of the Team is',cric_df.loc[index,'Player Name'] +'('+ cric_df.loc[index,'Player Type'] +')'+ ' from '+ cric_df.loc[index,'Team']+'\\n')\n",
        "print('Other Players:- \\n')\n",
        "for v in dr_cric.getVars():\n",
        "    if(int(v.VarName[2])==0 and v.x > 0):\n",
        "        index=int(v.VarName[v.VarName.index(',')+1:v.VarName.index(']')])\n",
        "        print(cric_df.loc[index,'Player Name'] +'('+ cric_df.loc[index,'Player Type'] +')'+ ' from '+ cric_df.loc[index,'Team'])"
      ],
      "execution_count": null,
      "outputs": [
        {
          "output_type": "stream",
          "text": [
            "The Optimum Team for the upcoming match is shown below:- \n",
            "\n",
            "The Captain of the Team is V Kohli(BAT) from INDIA\n",
            "The Vice Captain of the Team is KL Rahul(BAT) from INDIA\n",
            "\n",
            "Other Players:- \n",
            "\n",
            "J Denly(BAT) from ENGLAND\n",
            "R Sharma(BAT) from INDIA\n",
            "J Root(BAT) from ENGLAND\n",
            "J Roy(BAT) from ENGLAND\n",
            "L Plunkett(BOWL) from ENGLAND\n",
            "J Archer(BOWL) from ENGLAND\n",
            "U Yadav(BOWL) from INDIA\n",
            "J Buttler(WK) from ENGLAND\n",
            "K Jadav(ALL) from INDIA\n"
          ],
          "name": "stdout"
        }
      ]
    },
    {
      "cell_type": "markdown",
      "metadata": {
        "id": "rOddGYRalzYf"
      },
      "source": [
        "#### The team management has decided to rest V Kohli, who has been the choice for 'Captain'  for both risk-taking and risk-averse Dream 11 participants. Who shall be the new Captain ?###"
      ]
    },
    {
      "cell_type": "code",
      "metadata": {
        "id": "YB_c_LuulzYh",
        "outputId": "31d14922-d60e-4305-f63e-d455c900c3c0"
      },
      "source": [
        "# Change Parameters\n",
        "#Revert the changes made in the previous Scenario\n",
        "lb[0]=3 \n",
        "ub[3]=4\n",
        "risk_aversion=0\n",
        "\n",
        "# setup the model again\n",
        "dr_cric,y = dream11_optimisation()\n",
        "\n",
        "# Add an additional constraint to make sure that V Kohli is not selected in Playing 11\n",
        "index_cap=cric_df.index[cric_df['Player Name']=='V Kohli'].values[0]\n",
        "dr_cric.addConstr (quicksum(y[i,index_cap] for i in range(M))==0)\n",
        "\n",
        "# Solving the model\n",
        "dr_cric.optimize()"
      ],
      "execution_count": null,
      "outputs": [
        {
          "output_type": "stream",
          "text": [
            "Optimize a model with 45 rows, 90 columns and 543 nonzeros\n",
            "Variable types: 0 continuous, 90 integer (90 binary)\n",
            "Coefficient statistics:\n",
            "  Matrix range     [1e+00, 1e+01]\n",
            "  Objective range  [1e+02, 8e+02]\n",
            "  Bounds range     [1e+00, 1e+00]\n",
            "  RHS range        [1e+00, 1e+02]\n",
            "Found heuristic solution: objective 2789.8000000\n",
            "Presolve removed 2 rows and 3 columns\n",
            "Presolve time: 0.01s\n",
            "Presolved: 43 rows, 87 columns, 513 nonzeros\n",
            "Variable types: 0 continuous, 87 integer (87 binary)\n",
            "\n",
            "Root relaxation: objective 3.964900e+03, 54 iterations, 0.00 seconds\n",
            "\n",
            "    Nodes    |    Current Node    |     Objective Bounds      |     Work\n",
            " Expl Unexpl |  Obj  Depth IntInf | Incumbent    BestBd   Gap | It/Node Time\n",
            "\n",
            "*    0     0               0    3964.9000000 3964.90000  0.00%     -    0s\n",
            "\n",
            "Explored 0 nodes (54 simplex iterations) in 0.06 seconds\n",
            "Thread count was 4 (of 4 available processors)\n",
            "\n",
            "Solution count 2: 3964.9 2789.8 \n",
            "\n",
            "Optimal solution found (tolerance 1.00e-04)\n",
            "Best objective 3.964900000000e+03, best bound 3.964900000000e+03, gap 0.0000%\n"
          ],
          "name": "stdout"
        }
      ]
    },
    {
      "cell_type": "code",
      "metadata": {
        "id": "cqMp5O2KlzYp",
        "outputId": "fd2c0417-c26e-445d-c807-4ee281dd9dff"
      },
      "source": [
        "print('The Optimum Team for the upcoming match is shown below:- \\n')\n",
        "for v in dr_cric.getVars():\n",
        "    if(int(v.VarName[2])==2 and v.x > 0):\n",
        "        index=int(v.VarName[v.VarName.index(',')+1:v.VarName.index(']')])\n",
        "        print('The Captain of the Team is',cric_df.loc[index,'Player Name'] +'('+ cric_df.loc[index,'Player Type'] +')'+ ' from '+ cric_df.loc[index,'Team'])\n",
        "for v in dr_cric.getVars():\n",
        "    if(int(v.VarName[2])==1 and v.x > 0):\n",
        "        index=int(v.VarName[v.VarName.index(',')+1:v.VarName.index(']')])\n",
        "        print('The Vice Captain of the Team is',cric_df.loc[index,'Player Name'] +'('+ cric_df.loc[index,'Player Type'] +')'+ ' from '+ cric_df.loc[index,'Team']+'\\n')\n",
        "print('Other Players:- \\n')\n",
        "for v in dr_cric.getVars():\n",
        "    if(int(v.VarName[2])==0 and v.x > 0):\n",
        "        index=int(v.VarName[v.VarName.index(',')+1:v.VarName.index(']')])\n",
        "        print(cric_df.loc[index,'Player Name'] +'('+ cric_df.loc[index,'Player Type'] +')'+ ' from '+ cric_df.loc[index,'Team'])"
      ],
      "execution_count": null,
      "outputs": [
        {
          "output_type": "stream",
          "text": [
            "The Optimum Team for the upcoming match is shown below:- \n",
            "\n",
            "The Captain of the Team is KL Rahul(BAT) from INDIA\n",
            "The Vice Captain of the Team is R Sharma(BAT) from INDIA\n",
            "\n",
            "Other Players:- \n",
            "\n",
            "J Root(BAT) from ENGLAND\n",
            "J Roy(BAT) from ENGLAND\n",
            "J Bumrah(BOWL) from INDIA\n",
            "L Plunkett(BOWL) from ENGLAND\n",
            "J Archer(BOWL) from ENGLAND\n",
            "U Yadav(BOWL) from INDIA\n",
            "D Karthik(WK) from INDIA\n",
            "J Buttler(WK) from ENGLAND\n",
            "K Jadav(ALL) from INDIA\n"
          ],
          "name": "stdout"
        }
      ]
    },
    {
      "cell_type": "markdown",
      "metadata": {
        "id": "D_JNIdZTlzYx"
      },
      "source": [
        "#### At times depending on weather conditions, the team which is batting second, is at an disadvantage. The Dew on the pitch ensures that the ball experiences unpredictable swings. In this case, the bowling team should include more bowlers in the team ###"
      ]
    },
    {
      "cell_type": "code",
      "metadata": {
        "id": "HVV0Bma6lzYz",
        "outputId": "544f8788-0bf2-47f0-f9af-f8bd929d17fb"
      },
      "source": [
        "# Change Parameters\n",
        "lb[1]=5 #The minimum no of bowlers included is 5\n",
        "risk_aversion=0\n",
        "\n",
        "# setup the model again\n",
        "dr_cric,y = dream11_optimisation()\n",
        "\n",
        "# Solving the model\n",
        "dr_cric.optimize()"
      ],
      "execution_count": null,
      "outputs": [
        {
          "output_type": "stream",
          "text": [
            "Optimize a model with 44 rows, 90 columns and 540 nonzeros\n",
            "Variable types: 0 continuous, 90 integer (90 binary)\n",
            "Coefficient statistics:\n",
            "  Matrix range     [1e+00, 1e+01]\n",
            "  Objective range  [1e+02, 8e+02]\n",
            "  Bounds range     [1e+00, 1e+00]\n",
            "  RHS range        [1e+00, 1e+02]\n",
            "Found heuristic solution: objective 3090.0500000\n",
            "Presolve time: 0.00s\n",
            "Presolved: 44 rows, 90 columns, 531 nonzeros\n",
            "Variable types: 0 continuous, 90 integer (90 binary)\n",
            "\n",
            "Root relaxation: objective 4.127350e+03, 58 iterations, 0.00 seconds\n",
            "\n",
            "    Nodes    |    Current Node    |     Objective Bounds      |     Work\n",
            " Expl Unexpl |  Obj  Depth IntInf | Incumbent    BestBd   Gap | It/Node Time\n",
            "\n",
            "*    0     0               0    4127.3500000 4127.35000  0.00%     -    0s\n",
            "\n",
            "Explored 0 nodes (58 simplex iterations) in 0.02 seconds\n",
            "Thread count was 4 (of 4 available processors)\n",
            "\n",
            "Solution count 2: 4127.35 3090.05 \n",
            "\n",
            "Optimal solution found (tolerance 1.00e-04)\n",
            "Best objective 4.127350000000e+03, best bound 4.127350000000e+03, gap 0.0000%\n"
          ],
          "name": "stdout"
        }
      ]
    },
    {
      "cell_type": "code",
      "metadata": {
        "id": "w6zMqMrYlzY9",
        "outputId": "036be8dd-df5c-4cd7-e59e-bccf96fff41e"
      },
      "source": [
        "print('The Optimum Team for the upcoming match is shown below:- \\n')\n",
        "for v in dr_cric.getVars():\n",
        "    if(int(v.VarName[2])==2 and v.x > 0):\n",
        "        index=int(v.VarName[v.VarName.index(',')+1:v.VarName.index(']')])\n",
        "        print('The Captain of the Team is',cric_df.loc[index,'Player Name'] +'('+ cric_df.loc[index,'Player Type'] +')'+ ' from '+ cric_df.loc[index,'Team'])\n",
        "for v in dr_cric.getVars():\n",
        "    if(int(v.VarName[2])==1 and v.x > 0):\n",
        "        index=int(v.VarName[v.VarName.index(',')+1:v.VarName.index(']')])\n",
        "        print('The Vice Captain of the Team is',cric_df.loc[index,'Player Name'] +'('+ cric_df.loc[index,'Player Type'] +')'+ ' from '+ cric_df.loc[index,'Team']+'\\n')\n",
        "print('Other Players:- \\n')\n",
        "for v in dr_cric.getVars():\n",
        "    if(int(v.VarName[2])==0 and v.x > 0):\n",
        "        index=int(v.VarName[v.VarName.index(',')+1:v.VarName.index(']')])\n",
        "        print(cric_df.loc[index,'Player Name'] +'('+ cric_df.loc[index,'Player Type'] +')'+ ' from '+ cric_df.loc[index,'Team'])"
      ],
      "execution_count": null,
      "outputs": [
        {
          "output_type": "stream",
          "text": [
            "The Optimum Team for the upcoming match is shown below:- \n",
            "\n",
            "The Captain of the Team is V Kohli(BAT) from INDIA\n",
            "The Vice Captain of the Team is KL Rahul(BAT) from INDIA\n",
            "\n",
            "Other Players:- \n",
            "\n",
            "R Sharma(BAT) from INDIA\n",
            "J Root(BAT) from ENGLAND\n",
            "J Bumrah(BOWL) from INDIA\n",
            "L Plunkett(BOWL) from ENGLAND\n",
            "B Kumar(BOWL) from INDIA\n",
            "J Archer(BOWL) from ENGLAND\n",
            "U Yadav(BOWL) from INDIA\n",
            "J Buttler(WK) from ENGLAND\n",
            "K Jadav(ALL) from INDIA\n"
          ],
          "name": "stdout"
        }
      ]
    },
    {
      "cell_type": "markdown",
      "metadata": {
        "id": "VS00gsnblzZD"
      },
      "source": [
        "### Randomly generating a new match's scores of each players"
      ]
    },
    {
      "cell_type": "code",
      "metadata": {
        "id": "F8vs2buVlzZE"
      },
      "source": [
        "new_score=[]\n",
        "\n",
        "for i in range(len(scores)):\n",
        "    new_score.append(max(np.random.normal(scores[i],sd_score[i],1)[0],0))"
      ],
      "execution_count": null,
      "outputs": []
    },
    {
      "cell_type": "code",
      "metadata": {
        "id": "h4TrU96hlzZM",
        "outputId": "9c9f49e8-a9b4-48c9-ab09-1bf68b644ae1"
      },
      "source": [
        "new_score"
      ],
      "execution_count": null,
      "outputs": [
        {
          "output_type": "execute_result",
          "data": {
            "text/plain": [
              "[401.1411266580253,\n",
              " 30.990636780869636,\n",
              " 257.59937423759396,\n",
              " 561.8942433806479,\n",
              " 348.08585367845006,\n",
              " 384.5010810678119,\n",
              " 263.212931249031,\n",
              " 161.6264076162899,\n",
              " 206.63641895871666,\n",
              " 177.4267027934267,\n",
              " 160.56230236754297,\n",
              " 196.20265217061356,\n",
              " 93.58810890118214,\n",
              " 244.77840885074707,\n",
              " 292.043335067028,\n",
              " 464.23480323653735,\n",
              " 247.6121235673849,\n",
              " 261.00947784693756,\n",
              " 216.340729041747,\n",
              " 220.74080700685676,\n",
              " 272.4998694986309,\n",
              " 278.4161893149656,\n",
              " 353.2014756937042,\n",
              " 229.66468220089976,\n",
              " 226.21259534891513,\n",
              " 377.94221204591884,\n",
              " 200.32284514026531,\n",
              " 363.7772067584925,\n",
              " 168.99931678955525,\n",
              " 206.61073321311082]"
            ]
          },
          "metadata": {
            "tags": []
          },
          "execution_count": 26
        }
      ]
    },
    {
      "cell_type": "code",
      "metadata": {
        "id": "uM8ra82ClzZT",
        "outputId": "80319b1f-0bbf-4f03-81fb-0abd2603066b"
      },
      "source": [
        "s=0\n",
        "for v in dr_cric.getVars():\n",
        "    index=int(v.VarName[v.VarName.index(',')+1:v.VarName.index(']')])\n",
        "    if(int(v.VarName[2])==2 and v.x > 0):\n",
        "        s+=new_score[index]*2\n",
        "    elif(int(v.VarName[2])==1 and v.x > 0):\n",
        "        s+=new_score[index]*1.5\n",
        "    elif(int(v.VarName[2])==0 and v.x > 0):\n",
        "        s+=new_score[index]\n",
        "        \n",
        "print(s)        "
      ],
      "execution_count": null,
      "outputs": [
        {
          "output_type": "stream",
          "text": [
            "3909.3396018576154\n"
          ],
          "name": "stdout"
        }
      ]
    },
    {
      "cell_type": "code",
      "metadata": {
        "id": "2z1uTFKelzZZ",
        "outputId": "bac65cf6-bf85-4a8c-9405-7e5990303c1d"
      },
      "source": [
        "for risk_aversion in range(11):        \n",
        "        print ('Risk Tolerance of the Dream-11 Player is',risk_aversion)\n",
        "        # setup the model again\n",
        "        dr_cric,x = dream11_optimisation()\n",
        "        \n",
        "        #Supressing the optimization output\n",
        "        dr_cric.setParam('OutputFlag', False )\n",
        "        \n",
        "        # Solving the model\n",
        "        dr_cric.optimize()\n",
        "        \n",
        "        # Display the Output\n",
        "        print('The Optimum Team for the upcoming match based on your risk tolerance is shown below:- \\n')\n",
        "        for v in dr_cric.getVars():\n",
        "            if(int(v.VarName[2])==2 and v.x > 0):\n",
        "                index=int(v.VarName[v.VarName.index(',')+1:v.VarName.index(']')])\n",
        "                print('The Captain of the Team is',cric_df.loc[index,'Player Name'] + \\\n",
        "                  '('+ cric_df.loc[index,'Player Type'] +')'+ ' from '+ cric_df.loc[index,'Team'])\n",
        "        for v in dr_cric.getVars():\n",
        "            if(int(v.VarName[2])==1 and v.x > 0):\n",
        "                index=int(v.VarName[v.VarName.index(',')+1:v.VarName.index(']')])\n",
        "                print('The Vice Captain of the Team is',cric_df.loc[index,'Player Name'] + \\\n",
        "                      '('+ cric_df.loc[index,'Player Type'] +')'+ ' from '+ cric_df.loc[index,'Team']+'\\n')\n",
        "        print('Other Players:- \\n')\n",
        "        for v in dr_cric.getVars():\n",
        "            if(int(v.VarName[2])==0 and v.x > 0):\n",
        "                index=int(v.VarName[v.VarName.index(',')+1:v.VarName.index(']')])\n",
        "                print(cric_df.loc[index,'Player Name'] +'('+ cric_df.loc[index,'Player Type'] +')'+ \\\n",
        "                      ' from '+ cric_df.loc[index,'Team'])\n",
        "        s1=0\n",
        "        for v in dr_cric.getVars():\n",
        "            index=int(v.VarName[v.VarName.index(',')+1:v.VarName.index(']')])\n",
        "            if(int(v.VarName[2])==2 and v.x > 0):\n",
        "                s1+=scores[index]*2\n",
        "            elif(int(v.VarName[2])==1 and v.x > 0):\n",
        "                s1+=scores[index]*1.5\n",
        "            elif(int(v.VarName[2])==0 and v.x > 0):\n",
        "                s1+=scores[index]\n",
        "        print('Expected Score: ',s1)\n",
        "        \n",
        "        s=0\n",
        "        for v in dr_cric.getVars():\n",
        "            index=int(v.VarName[v.VarName.index(',')+1:v.VarName.index(']')])\n",
        "            if(int(v.VarName[2])==2 and v.x > 0):\n",
        "                s+=new_score[index]*2\n",
        "            elif(int(v.VarName[2])==1 and v.x > 0):\n",
        "                s+=new_score[index]*1.5\n",
        "            elif(int(v.VarName[2])==0 and v.x > 0):\n",
        "                s+=new_score[index]\n",
        "        \n",
        "        print('Actual Score: ',s)  \n",
        "        "
      ],
      "execution_count": null,
      "outputs": [
        {
          "output_type": "stream",
          "text": [
            "Risk Tolerance of the Dream-11 Player is 0\n",
            "The Optimum Team for the upcoming match based on your risk tolerance is shown below:- \n",
            "\n",
            "The Captain of the Team is V Kohli(BAT) from INDIA\n",
            "The Vice Captain of the Team is KL Rahul(BAT) from INDIA\n",
            "\n",
            "Other Players:- \n",
            "\n",
            "R Sharma(BAT) from INDIA\n",
            "J Root(BAT) from ENGLAND\n",
            "J Bumrah(BOWL) from INDIA\n",
            "L Plunkett(BOWL) from ENGLAND\n",
            "B Kumar(BOWL) from INDIA\n",
            "J Archer(BOWL) from ENGLAND\n",
            "U Yadav(BOWL) from INDIA\n",
            "J Buttler(WK) from ENGLAND\n",
            "K Jadav(ALL) from INDIA\n",
            "Expected Score:  4127.349999999999\n",
            "Actual Score:  4408.546915290469\n",
            "Risk Tolerance of the Dream-11 Player is 1\n",
            "The Optimum Team for the upcoming match based on your risk tolerance is shown below:- \n",
            "\n",
            "The Captain of the Team is V Kohli(BAT) from INDIA\n",
            "The Vice Captain of the Team is KL Rahul(BAT) from INDIA\n",
            "\n",
            "Other Players:- \n",
            "\n",
            "J Denly(BAT) from ENGLAND\n",
            "J Roy(BAT) from ENGLAND\n",
            "M Ali(ALL) from ENGLAND\n",
            "J Bumrah(BOWL) from INDIA\n",
            "L Plunkett(BOWL) from ENGLAND\n",
            "B Kumar(BOWL) from INDIA\n",
            "J Archer(BOWL) from ENGLAND\n",
            "U Yadav(BOWL) from INDIA\n",
            "J Buttler(WK) from ENGLAND\n",
            "Expected Score:  3909.65\n",
            "Actual Score:  4095.1582157791872\n",
            "Risk Tolerance of the Dream-11 Player is 2\n",
            "The Optimum Team for the upcoming match based on your risk tolerance is shown below:- \n",
            "\n",
            "The Captain of the Team is V Kohli(BAT) from INDIA\n",
            "The Vice Captain of the Team is KL Rahul(BAT) from INDIA\n",
            "\n",
            "Other Players:- \n",
            "\n",
            "J Denly(BAT) from ENGLAND\n",
            "J Roy(BAT) from ENGLAND\n",
            "M Ali(ALL) from ENGLAND\n",
            "J Bumrah(BOWL) from INDIA\n",
            "B Kumar(BOWL) from INDIA\n",
            "C Woakes(BOWL) from ENGLAND\n",
            "J Archer(BOWL) from ENGLAND\n",
            "U Yadav(BOWL) from INDIA\n",
            "J Buttler(WK) from ENGLAND\n",
            "Expected Score:  3809.35\n",
            "Actual Score:  3909.3396018576154\n",
            "Risk Tolerance of the Dream-11 Player is 3\n",
            "The Optimum Team for the upcoming match based on your risk tolerance is shown below:- \n",
            "\n",
            "The Captain of the Team is V Kohli(BAT) from INDIA\n",
            "The Vice Captain of the Team is KL Rahul(BAT) from INDIA\n",
            "\n",
            "Other Players:- \n",
            "\n",
            "J Denly(BAT) from ENGLAND\n",
            "J Roy(BAT) from ENGLAND\n",
            "M Ali(ALL) from ENGLAND\n",
            "J Bumrah(BOWL) from INDIA\n",
            "B Kumar(BOWL) from INDIA\n",
            "C Woakes(BOWL) from ENGLAND\n",
            "J Archer(BOWL) from ENGLAND\n",
            "U Yadav(BOWL) from INDIA\n",
            "J Buttler(WK) from ENGLAND\n",
            "Expected Score:  3809.35\n",
            "Actual Score:  3909.3396018576154\n",
            "Risk Tolerance of the Dream-11 Player is 4\n",
            "The Optimum Team for the upcoming match based on your risk tolerance is shown below:- \n",
            "\n",
            "The Captain of the Team is V Kohli(BAT) from INDIA\n",
            "The Vice Captain of the Team is KL Rahul(BAT) from INDIA\n",
            "\n",
            "Other Players:- \n",
            "\n",
            "J Denly(BAT) from ENGLAND\n",
            "J Roy(BAT) from ENGLAND\n",
            "M Ali(ALL) from ENGLAND\n",
            "J Bumrah(BOWL) from INDIA\n",
            "B Kumar(BOWL) from INDIA\n",
            "M Shami(BOWL) from INDIA\n",
            "C Woakes(BOWL) from ENGLAND\n",
            "J Archer(BOWL) from ENGLAND\n",
            "J Buttler(WK) from ENGLAND\n",
            "Expected Score:  3701.35\n",
            "Actual Score:  3896.0156486984624\n",
            "Risk Tolerance of the Dream-11 Player is 5\n",
            "The Optimum Team for the upcoming match based on your risk tolerance is shown below:- \n",
            "\n",
            "The Captain of the Team is V Kohli(BAT) from INDIA\n",
            "The Vice Captain of the Team is KL Rahul(BAT) from INDIA\n",
            "\n",
            "Other Players:- \n",
            "\n",
            "J Denly(BAT) from ENGLAND\n",
            "J Roy(BAT) from ENGLAND\n",
            "M Ali(ALL) from ENGLAND\n",
            "J Bumrah(BOWL) from INDIA\n",
            "B Kumar(BOWL) from INDIA\n",
            "M Shami(BOWL) from INDIA\n",
            "C Woakes(BOWL) from ENGLAND\n",
            "J Archer(BOWL) from ENGLAND\n",
            "J Bairstow(WK) from ENGLAND\n",
            "Expected Score:  3600.85\n",
            "Actual Score:  3732.561287080235\n",
            "Risk Tolerance of the Dream-11 Player is 6\n",
            "The Optimum Team for the upcoming match based on your risk tolerance is shown below:- \n",
            "\n",
            "The Captain of the Team is V Kohli(BAT) from INDIA\n",
            "The Vice Captain of the Team is KL Rahul(BAT) from INDIA\n",
            "\n",
            "Other Players:- \n",
            "\n",
            "J Denly(BAT) from ENGLAND\n",
            "J Roy(BAT) from ENGLAND\n",
            "M Ali(ALL) from ENGLAND\n",
            "J Bumrah(BOWL) from INDIA\n",
            "B Kumar(BOWL) from INDIA\n",
            "M Shami(BOWL) from INDIA\n",
            "C Woakes(BOWL) from ENGLAND\n",
            "J Archer(BOWL) from ENGLAND\n",
            "J Bairstow(WK) from ENGLAND\n",
            "Expected Score:  3600.85\n",
            "Actual Score:  3732.561287080235\n",
            "Risk Tolerance of the Dream-11 Player is 7\n",
            "The Optimum Team for the upcoming match based on your risk tolerance is shown below:- \n",
            "\n",
            "The Captain of the Team is KL Rahul(BAT) from INDIA\n",
            "The Vice Captain of the Team is J Archer(BOWL) from ENGLAND\n",
            "\n",
            "Other Players:- \n",
            "\n",
            "J Denly(BAT) from ENGLAND\n",
            "J Roy(BAT) from ENGLAND\n",
            "M Ali(ALL) from ENGLAND\n",
            "J Bumrah(BOWL) from INDIA\n",
            "B Kumar(BOWL) from INDIA\n",
            "M Shami(BOWL) from INDIA\n",
            "C Woakes(BOWL) from ENGLAND\n",
            "D Karthik(WK) from INDIA\n",
            "J Bairstow(WK) from ENGLAND\n",
            "Expected Score:  3388.5999999999995\n",
            "Actual Score:  3525.3429074938576\n",
            "Risk Tolerance of the Dream-11 Player is 8\n",
            "The Optimum Team for the upcoming match based on your risk tolerance is shown below:- \n",
            "\n",
            "The Captain of the Team is KL Rahul(BAT) from INDIA\n",
            "The Vice Captain of the Team is J Archer(BOWL) from ENGLAND\n",
            "\n",
            "Other Players:- \n",
            "\n",
            "J Denly(BAT) from ENGLAND\n",
            "J Roy(BAT) from ENGLAND\n",
            "A Hales(BAT) from ENGLAND\n",
            "M Ali(ALL) from ENGLAND\n",
            "J Bumrah(BOWL) from INDIA\n",
            "B Kumar(BOWL) from INDIA\n",
            "M Shami(BOWL) from INDIA\n",
            "C Woakes(BOWL) from ENGLAND\n",
            "J Bairstow(WK) from ENGLAND\n",
            "Expected Score:  3365.2999999999993\n",
            "Actual Score:  3505.7667311036594\n",
            "Risk Tolerance of the Dream-11 Player is 9\n",
            "The Optimum Team for the upcoming match based on your risk tolerance is shown below:- \n",
            "\n",
            "The Captain of the Team is KL Rahul(BAT) from INDIA\n",
            "The Vice Captain of the Team is J Archer(BOWL) from ENGLAND\n",
            "\n",
            "Other Players:- \n",
            "\n",
            "J Denly(BAT) from ENGLAND\n",
            "J Roy(BAT) from ENGLAND\n",
            "J Vince(BAT) from ENGLAND\n",
            "M Ali(ALL) from ENGLAND\n",
            "J Bumrah(BOWL) from INDIA\n",
            "B Kumar(BOWL) from INDIA\n",
            "M Shami(BOWL) from INDIA\n",
            "C Woakes(BOWL) from ENGLAND\n",
            "J Bairstow(WK) from ENGLAND\n",
            "Expected Score:  3309.5\n",
            "Actual Score:  3460.7567197612325\n",
            "Risk Tolerance of the Dream-11 Player is 10\n",
            "The Optimum Team for the upcoming match based on your risk tolerance is shown below:- \n",
            "\n",
            "The Captain of the Team is KL Rahul(BAT) from INDIA\n",
            "The Vice Captain of the Team is J Archer(BOWL) from ENGLAND\n",
            "\n",
            "Other Players:- \n",
            "\n",
            "J Denly(BAT) from ENGLAND\n",
            "J Roy(BAT) from ENGLAND\n",
            "J Vince(BAT) from ENGLAND\n",
            "M Ali(ALL) from ENGLAND\n",
            "J Bumrah(BOWL) from INDIA\n",
            "B Kumar(BOWL) from INDIA\n",
            "M Shami(BOWL) from INDIA\n",
            "C Woakes(BOWL) from ENGLAND\n",
            "J Bairstow(WK) from ENGLAND\n",
            "Expected Score:  3309.5\n",
            "Actual Score:  3460.7567197612325\n"
          ],
          "name": "stdout"
        }
      ]
    },
    {
      "cell_type": "code",
      "metadata": {
        "id": "RodajtQqlzZg"
      },
      "source": [
        ""
      ],
      "execution_count": null,
      "outputs": []
    }
  ]
}